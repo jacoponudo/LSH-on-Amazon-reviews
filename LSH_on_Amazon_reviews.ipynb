{
  "cells": [
    {
      "cell_type": "markdown",
      "source": [
        "#LSH on Amazon reviews\n",
        "This project is about apply a dimentionality reduction, using Local Sensitive Hashing on Amazon reviews.\n",
        "Give the size of data we are pushed to spply a sort of reduction to evaluate is there are similar (or cluster os documents) so staring from the enteir text I've performe a preprocessing and a Tf-IDf to reppresent them as vectors in a multidimentional space.\n",
        "To reach a good signature matrix I've transformed the Tf-IDf matrid using the Hypoerplanes method with size of 900 that could lead to a defenely better usage of this vector.\n",
        "Then with hash functions for each ban we produce a bucket key, that will open a bucket in which we will find all the similar (due to the approximation) documents."
      ],
      "metadata": {
        "id": "bV1PT94rNAdR"
      }
    },
    {
      "cell_type": "markdown",
      "metadata": {
        "id": "QouUdz0Ri1Ku"
      },
      "source": [
        "## Data Loading & Import "
      ]
    },
    {
      "cell_type": "code",
      "execution_count": null,
      "metadata": {
        "colab": {
          "base_uri": "https://localhost:8080/"
        },
        "id": "Hx932cVxi7x5",
        "outputId": "e3086e99-095e-417f-b2d0-83b7c05b9f97"
      },
      "outputs": [
        {
          "output_type": "stream",
          "name": "stdout",
          "text": [
            "Mounted at /content/drive/\n"
          ]
        }
      ],
      "source": [
        "from google.colab import drive\n",
        "drive.mount('/content/drive/')"
      ]
    },
    {
      "cell_type": "code",
      "execution_count": null,
      "metadata": {
        "colab": {
          "base_uri": "https://localhost:8080/",
          "height": 74
        },
        "id": "oh-_xFhKSDDf",
        "outputId": "75e7060c-e3a2-4bd8-a8e7-cf57b94e2da5"
      },
      "outputs": [
        {
          "data": {
            "text/html": [
              "\n",
              "     <input type=\"file\" id=\"files-536a0716-1813-4d1d-9ae9-4869cb4295ca\" name=\"files[]\" multiple disabled\n",
              "        style=\"border:none\" />\n",
              "     <output id=\"result-536a0716-1813-4d1d-9ae9-4869cb4295ca\">\n",
              "      Upload widget is only available when the cell has been executed in the\n",
              "      current browser session. Please rerun this cell to enable.\n",
              "      </output>\n",
              "      <script>// Copyright 2017 Google LLC\n",
              "//\n",
              "// Licensed under the Apache License, Version 2.0 (the \"License\");\n",
              "// you may not use this file except in compliance with the License.\n",
              "// You may obtain a copy of the License at\n",
              "//\n",
              "//      http://www.apache.org/licenses/LICENSE-2.0\n",
              "//\n",
              "// Unless required by applicable law or agreed to in writing, software\n",
              "// distributed under the License is distributed on an \"AS IS\" BASIS,\n",
              "// WITHOUT WARRANTIES OR CONDITIONS OF ANY KIND, either express or implied.\n",
              "// See the License for the specific language governing permissions and\n",
              "// limitations under the License.\n",
              "\n",
              "/**\n",
              " * @fileoverview Helpers for google.colab Python module.\n",
              " */\n",
              "(function(scope) {\n",
              "function span(text, styleAttributes = {}) {\n",
              "  const element = document.createElement('span');\n",
              "  element.textContent = text;\n",
              "  for (const key of Object.keys(styleAttributes)) {\n",
              "    element.style[key] = styleAttributes[key];\n",
              "  }\n",
              "  return element;\n",
              "}\n",
              "\n",
              "// Max number of bytes which will be uploaded at a time.\n",
              "const MAX_PAYLOAD_SIZE = 100 * 1024;\n",
              "\n",
              "function _uploadFiles(inputId, outputId) {\n",
              "  const steps = uploadFilesStep(inputId, outputId);\n",
              "  const outputElement = document.getElementById(outputId);\n",
              "  // Cache steps on the outputElement to make it available for the next call\n",
              "  // to uploadFilesContinue from Python.\n",
              "  outputElement.steps = steps;\n",
              "\n",
              "  return _uploadFilesContinue(outputId);\n",
              "}\n",
              "\n",
              "// This is roughly an async generator (not supported in the browser yet),\n",
              "// where there are multiple asynchronous steps and the Python side is going\n",
              "// to poll for completion of each step.\n",
              "// This uses a Promise to block the python side on completion of each step,\n",
              "// then passes the result of the previous step as the input to the next step.\n",
              "function _uploadFilesContinue(outputId) {\n",
              "  const outputElement = document.getElementById(outputId);\n",
              "  const steps = outputElement.steps;\n",
              "\n",
              "  const next = steps.next(outputElement.lastPromiseValue);\n",
              "  return Promise.resolve(next.value.promise).then((value) => {\n",
              "    // Cache the last promise value to make it available to the next\n",
              "    // step of the generator.\n",
              "    outputElement.lastPromiseValue = value;\n",
              "    return next.value.response;\n",
              "  });\n",
              "}\n",
              "\n",
              "/**\n",
              " * Generator function which is called between each async step of the upload\n",
              " * process.\n",
              " * @param {string} inputId Element ID of the input file picker element.\n",
              " * @param {string} outputId Element ID of the output display.\n",
              " * @return {!Iterable<!Object>} Iterable of next steps.\n",
              " */\n",
              "function* uploadFilesStep(inputId, outputId) {\n",
              "  const inputElement = document.getElementById(inputId);\n",
              "  inputElement.disabled = false;\n",
              "\n",
              "  const outputElement = document.getElementById(outputId);\n",
              "  outputElement.innerHTML = '';\n",
              "\n",
              "  const pickedPromise = new Promise((resolve) => {\n",
              "    inputElement.addEventListener('change', (e) => {\n",
              "      resolve(e.target.files);\n",
              "    });\n",
              "  });\n",
              "\n",
              "  const cancel = document.createElement('button');\n",
              "  inputElement.parentElement.appendChild(cancel);\n",
              "  cancel.textContent = 'Cancel upload';\n",
              "  const cancelPromise = new Promise((resolve) => {\n",
              "    cancel.onclick = () => {\n",
              "      resolve(null);\n",
              "    };\n",
              "  });\n",
              "\n",
              "  // Wait for the user to pick the files.\n",
              "  const files = yield {\n",
              "    promise: Promise.race([pickedPromise, cancelPromise]),\n",
              "    response: {\n",
              "      action: 'starting',\n",
              "    }\n",
              "  };\n",
              "\n",
              "  cancel.remove();\n",
              "\n",
              "  // Disable the input element since further picks are not allowed.\n",
              "  inputElement.disabled = true;\n",
              "\n",
              "  if (!files) {\n",
              "    return {\n",
              "      response: {\n",
              "        action: 'complete',\n",
              "      }\n",
              "    };\n",
              "  }\n",
              "\n",
              "  for (const file of files) {\n",
              "    const li = document.createElement('li');\n",
              "    li.append(span(file.name, {fontWeight: 'bold'}));\n",
              "    li.append(span(\n",
              "        `(${file.type || 'n/a'}) - ${file.size} bytes, ` +\n",
              "        `last modified: ${\n",
              "            file.lastModifiedDate ? file.lastModifiedDate.toLocaleDateString() :\n",
              "                                    'n/a'} - `));\n",
              "    const percent = span('0% done');\n",
              "    li.appendChild(percent);\n",
              "\n",
              "    outputElement.appendChild(li);\n",
              "\n",
              "    const fileDataPromise = new Promise((resolve) => {\n",
              "      const reader = new FileReader();\n",
              "      reader.onload = (e) => {\n",
              "        resolve(e.target.result);\n",
              "      };\n",
              "      reader.readAsArrayBuffer(file);\n",
              "    });\n",
              "    // Wait for the data to be ready.\n",
              "    let fileData = yield {\n",
              "      promise: fileDataPromise,\n",
              "      response: {\n",
              "        action: 'continue',\n",
              "      }\n",
              "    };\n",
              "\n",
              "    // Use a chunked sending to avoid message size limits. See b/62115660.\n",
              "    let position = 0;\n",
              "    do {\n",
              "      const length = Math.min(fileData.byteLength - position, MAX_PAYLOAD_SIZE);\n",
              "      const chunk = new Uint8Array(fileData, position, length);\n",
              "      position += length;\n",
              "\n",
              "      const base64 = btoa(String.fromCharCode.apply(null, chunk));\n",
              "      yield {\n",
              "        response: {\n",
              "          action: 'append',\n",
              "          file: file.name,\n",
              "          data: base64,\n",
              "        },\n",
              "      };\n",
              "\n",
              "      let percentDone = fileData.byteLength === 0 ?\n",
              "          100 :\n",
              "          Math.round((position / fileData.byteLength) * 100);\n",
              "      percent.textContent = `${percentDone}% done`;\n",
              "\n",
              "    } while (position < fileData.byteLength);\n",
              "  }\n",
              "\n",
              "  // All done.\n",
              "  yield {\n",
              "    response: {\n",
              "      action: 'complete',\n",
              "    }\n",
              "  };\n",
              "}\n",
              "\n",
              "scope.google = scope.google || {};\n",
              "scope.google.colab = scope.google.colab || {};\n",
              "scope.google.colab._files = {\n",
              "  _uploadFiles,\n",
              "  _uploadFilesContinue,\n",
              "};\n",
              "})(self);\n",
              "</script> "
            ],
            "text/plain": [
              "<IPython.core.display.HTML object>"
            ]
          },
          "metadata": {},
          "output_type": "display_data"
        },
        {
          "name": "stdout",
          "output_type": "stream",
          "text": [
            "Saving kaggle.json to kaggle.json\n"
          ]
        }
      ],
      "source": [
        "from google.colab import files\n",
        "\n",
        "uploaded = files.upload()"
      ]
    },
    {
      "cell_type": "code",
      "execution_count": null,
      "metadata": {
        "id": "intiH5vVSW-8"
      },
      "outputs": [],
      "source": [
        "import os\n",
        "os.environ['KAGGLE_CONFIG_DIR'] = \"/content\""
      ]
    },
    {
      "cell_type": "code",
      "execution_count": null,
      "metadata": {
        "colab": {
          "base_uri": "https://localhost:8080/"
        },
        "id": "VA4wH-NxSS9r",
        "outputId": "35c421ca-1219-49dd-9012-44cccf2ca2ed"
      },
      "outputs": [
        {
          "name": "stdout",
          "output_type": "stream",
          "text": [
            "Warning: Your Kaggle API key is readable by other users on this system! To fix this, you can run 'chmod 600 /content/kaggle.json'\n",
            "Downloading amazon-fine-food-reviews.zip to /content\n",
            " 99% 239M/242M [00:11<00:00, 23.1MB/s]\n",
            "100% 242M/242M [00:11<00:00, 21.4MB/s]\n"
          ]
        }
      ],
      "source": [
        "!kaggle datasets download -d snap/amazon-fine-food-reviews"
      ]
    },
    {
      "cell_type": "code",
      "execution_count": null,
      "metadata": {
        "id": "e6TX0PhISbBY"
      },
      "outputs": [],
      "source": [
        "!chmod 600 /content/kaggle.json"
      ]
    },
    {
      "cell_type": "code",
      "execution_count": null,
      "metadata": {
        "id": "6uYjTo6ySccK"
      },
      "outputs": [],
      "source": [
        "from zipfile import ZipFile\n",
        "with ZipFile('amazon-fine-food-reviews.zip', 'r') as zipObj:\n",
        "   zipObj.extractall()"
      ]
    },
    {
      "cell_type": "code",
      "execution_count": null,
      "metadata": {
        "colab": {
          "base_uri": "https://localhost:8080/"
        },
        "id": "IN8BwsugSlZ0",
        "outputId": "38855f02-4d17-4db0-ba4b-c17a17b09b26"
      },
      "outputs": [
        {
          "output_type": "stream",
          "name": "stderr",
          "text": [
            "[nltk_data] Downloading package stopwords to /root/nltk_data...\n",
            "[nltk_data]   Unzipping corpora/stopwords.zip.\n",
            "[nltk_data] Downloading package wordnet to /root/nltk_data...\n",
            "[nltk_data] Downloading package punkt to /root/nltk_data...\n",
            "[nltk_data]   Unzipping tokenizers/punkt.zip.\n",
            "[nltk_data] Downloading package omw-1.4 to /root/nltk_data...\n"
          ]
        }
      ],
      "source": [
        "import pandas as pd\n",
        "import collections\n",
        "from operator import xor\n",
        "import collections\n",
        "from itertools import combinations\n",
        "from scipy.stats import ttest_ind\n",
        "from scipy.stats import pearsonr \n",
        "import nltk\n",
        "from sklearn.feature_extraction.text import TfidfVectorizer\n",
        "import scipy.sparse\n",
        "from tqdm import tqdm\n",
        "nltk.download('stopwords')\n",
        "nltk.download('wordnet')\n",
        "nltk.download('punkt')\n",
        "nltk.download('omw-1.4')\n",
        "import string\n",
        "from nltk.corpus import stopwords\n",
        "from nltk.stem import PorterStemmer\n",
        "ps = PorterStemmer()\n",
        "from nltk.tokenize import word_tokenize\n",
        "stop_words=set(stopwords.words('english'))\n",
        "from sklearn.feature_extraction.text import TfidfVectorizer\n",
        "cv=TfidfVectorizer()\n",
        "def remove_stopwords(text):\n",
        "    return \" \".join([word for word in str(text).split() if word not in stop_words])\n",
        "import re\n",
        "import numpy as np\n",
        "contractions_dict = {\n",
        "  \"ain't\": \"am not\",\n",
        "  \"aren't\": \"are not\",\n",
        "  \"can't\": \"cannot\",\n",
        "  \"can't've\": \"cannot have\",\n",
        "  \"'cause\": \"because\",\n",
        "  \"could've\": \"could have\",\n",
        "  \"couldn't\": \"could not\",\n",
        "  \"couldn't've\": \"could not have\",\n",
        "  \"didn't\": \"did not\",\n",
        "  \"doesn't\": \"does not\",\n",
        "  \"don't\": \"do not\",\n",
        "  \"hadn't\": \"had not\",\n",
        "  \"hadn't've\": \"had not have\",\n",
        "  \"hasn't\": \"has not\",\n",
        "  \"haven't\": \"have not\",\n",
        "  \"he'd\": \"he would\",\n",
        "  \"he'd've\": \"he would have\",\n",
        "  \"he'll\": \"he will\",\n",
        "  \"he'll've\": \"he will have\",\n",
        "  \"he's\": \"he is\",\n",
        "  \"how'd\": \"how did\",\n",
        "  \"how'd'y\": \"how do you\",\n",
        "  \"how'll\": \"how will\",\n",
        "  \"how's\": \"how is\",\n",
        "  \"i'd\": \"I would\",\n",
        "  \"i'd've\": \"I would have\",\n",
        "  \"i'll\": \"I will\",\n",
        "  \"i'll've\": \"I will have\",\n",
        "  \"i'm\": \"I am\",\n",
        "  \"i've\": \"I have\",\n",
        "  \"isn't\": \"is not\",\n",
        "  \"it'd\": \"it had\",\n",
        "  \"it'd've\": \"it would have\",\n",
        "  \"it'll\": \"it will\",\n",
        "  \"it'll've\": \"it will have\",\n",
        "  \"it's\": \"it is\",\n",
        "  \"let's\": \"let us\",\n",
        "  \"ma'am\": \"madam\",\n",
        "  \"mayn't\": \"may not\",\n",
        "  \"might've\": \"might have\",\n",
        "  \"mightn't\": \"might not\",\n",
        "  \"mightn't've\": \"might not have\",\n",
        "  \"must've\": \"must have\",\n",
        "  \"mustn't\": \"must not\",\n",
        "  \"mustn't've\": \"must not have\",\n",
        "  \"needn't\": \"need not\",\n",
        "  \"needn't've\": \"need not have\",\n",
        "  \"o'clock\": \"of the clock\",\n",
        "  \"oughtn't\": \"ought not\",\n",
        "  \"oughtn't've\": \"ought not have\",\n",
        "  \"shan't\": \"shall not\",\n",
        "  \"sha'n't\": \"shall not\",\n",
        "  \"shan't've\": \"shall not have\",\n",
        "  \"she'd\": \"she would\",\n",
        "  \"she'd've\": \"she would have\",\n",
        "  \"she'll\": \"she will\",\n",
        "  \"she'll've\": \"she will have\",\n",
        "  \"she's\": \"she is\",\n",
        "  \"should've\": \"should have\",\n",
        "  \"shouldn't\": \"should not\",\n",
        "  \"shouldn't've\": \"should not have\",\n",
        "  \"so've\": \"so have\",\n",
        "  \"so's\": \"so is\",\n",
        "  \"that'd\": \"that would\",\n",
        "  \"that'd've\": \"that would have\",\n",
        "  \"that's\": \"that is\",\n",
        "  \"there'd\": \"there had\",\n",
        "  \"there'd've\": \"there would have\",\n",
        "  \"there's\": \"there is\",\n",
        "  \"they'd\": \"they would\",\n",
        "  \"they'd've\": \"they would have\",\n",
        "  \"they'll\": \"they will\",\n",
        "  \"they'll've\": \"they will have\",\n",
        "  \"they're\": \"they are\",\n",
        "  \"they've\": \"they have\",\n",
        "  \"to've\": \"to have\",\n",
        "  \"wasn't\": \"was not\",\n",
        "  \"we'd\": \"we had\",\n",
        "  \"we'd've\": \"we would have\",\n",
        "  \"we'll\": \"we will\",\n",
        "  \"we'll've\": \"we will have\",\n",
        "  \"we're\": \"we are\",\n",
        "  \"we've\": \"we have\",\n",
        "  \"weren't\": \"were not\",\n",
        "  \"what'll\": \"what will\",\n",
        "  \"what'll've\": \"what will have\",\n",
        "  \"what're\": \"what are\",\n",
        "  \"what's\": \"what is\",\n",
        "  \"what've\": \"what have\",\n",
        "  \"when's\": \"when is\",\n",
        "  \"when've\": \"when have\",\n",
        "  \"where'd\": \"where did\",\n",
        "  \"where's\": \"where is\",\n",
        "  \"where've\": \"where have\",\n",
        "  \"who'll\": \"who will\",\n",
        "  \"who'll've\": \"who will have\",\n",
        "  \"who's\": \"who is\",\n",
        "  \"who've\": \"who have\",\n",
        "  \"why's\": \"why is\",\n",
        "  \"why've\": \"why have\",\n",
        "  \"will've\": \"will have\",\n",
        "  \"won't\": \"will not\",\n",
        "  \"won't've\": \"will not have\",\n",
        "  \"would've\": \"would have\",\n",
        "  \"wouldn't\": \"would not\",\n",
        "  \"wouldn't've\": \"would not have\",\n",
        "  \"y'all\": \"you all\",\n",
        "  \"y'alls\": \"you alls\",\n",
        "  \"y'all'd\": \"you all would\",\n",
        "  \"y'all'd've\": \"you all would have\",\n",
        "  \"y'all're\": \"you all are\",\n",
        "  \"y'all've\": \"you all have\",\n",
        "  \"you'd\": \"you had\",\n",
        "  \"you'd've\": \"you would have\",\n",
        "  \"you'll\": \"you will\",\n",
        "  \"you'll've\": \"you will have\",\n",
        "  \"you're\": \"you are\",\n",
        "  \"you've\": \"you have\"\n",
        "}\n",
        "from itertools import combinations\n",
        "from random import shuffle\n",
        "import collections\n",
        "import json\n",
        "import spacy\n",
        "en = spacy.load('en_core_web_sm')\n",
        "sw_spacy = en.Defaults.stop_words\n",
        "def multiple_replace(dict, text):\n",
        "  regex = re.compile(\"(%s)\" % \"|\".join(map(re.escape, dict.keys())))\n",
        "  return regex.sub(lambda mo: dict[mo.string[mo.start():mo.end()]], text)\n",
        "from sklearn.model_selection import train_test_split\n",
        "import sklearn\n",
        "from sklearn.metrics.pairwise import cosine_similarity\n",
        "from scipy import sparse\n",
        "import pickle\n",
        "from numpy import random\n",
        "from tqdm.notebook import tqdm\n",
        "import timeit\n",
        "from tqdm.notebook import tqdm\n",
        "import timeit\n",
        "from tqdm.contrib import itertools"
      ]
    },
    {
      "cell_type": "code",
      "execution_count": null,
      "metadata": {
        "id": "rqs0NoVVgmux"
      },
      "outputs": [],
      "source": [
        "raw_pd = pd.read_csv('Reviews.csv', sep = ',')\n",
        "Text=raw_pd[\"Text\"]"
      ]
    },
    {
      "cell_type": "markdown",
      "metadata": {
        "id": "7YApB1OOOjH3"
      },
      "source": [
        "## Assignment 1.\n",
        "The goal of the first assignment is to use LSH for cosine similarity. In this case, you are requested to write a Colab notebook that applies LSH to textual data. The general goal is, given one document, to efficiently identify the documents that are closest to the document under consideration, in terms of cosine similarity computed on the tf- idf representations of the documents. As a test case, we will use the relatively large Amazon Fine Food Reviews dataset, available at https://www.kaggle.com/datasets/ snap/amazon-fine-food-reviews and already used in a previous notebook. Please refer to the Colab notebook on exploratory analysis of the above dataset for dataset\n",
        "retrieval and text feature extraction. In more detail you should:"
      ]
    },
    {
      "cell_type": "markdown",
      "metadata": {
        "id": "zyqc3K-pPJod"
      },
      "source": [
        "1) Implement all necessary text prepropressing required to transform each review into a tf-idf vector. To this purpose, you can reuse (and improve!) the code available in the above mentioned notebook on exploratory analysis of the Amazon Fine Food Reviews dataset."
      ]
    },
    {
      "cell_type": "markdown",
      "metadata": {
        "id": "HOgJWAs3jhnB"
      },
      "source": [
        "*Here I have performed a preprocessing, from the original review to the final proprocessed text, in which my aim has been to reduce unuseful words in order to identify the topic and the contents of the text.\n",
        "The frist idea is to put it in lower case,  then to, as seen in class, rebuild all the contraction that leads to misunderstanding.\n",
        "Going forward to eliminate from the text the unusefull punctuation and stopwords.\n",
        "After it to obtain a set of token starting from sentences I've applied a tokenizer and then finally for each word in order to have just the root so the meaning, but not the ending (unusefull), I've applied a lemmatizer.\n",
        "Putting all these word again togheter we have a new preprocessed text.\n",
        "On this one is easy to apply the TFID tranformation that, put into a multidimentional space each document, basically respecting a distance-topic criteria.*\n",
        "\n",
        "\n"
      ]
    },
    {
      "cell_type": "code",
      "execution_count": null,
      "metadata": {
        "id": "1DjsTEPbTHOE"
      },
      "outputs": [],
      "source": [
        "Text=Text.apply(lambda text:\"\".join([char.lower() for char in text ]))\n",
        "Text=Text.apply(lambda text:multiple_replace(contractions_dict, text))\n",
        "Text=Text.apply(lambda text:\"\".join([char for char in text if char not in string.punctuation]))\n",
        "Text= Text.apply(lambda text: remove_stopwords(text))\n",
        "Text= Text.apply(lambda text: word_tokenize(text))\n",
        "Text= Text.apply(lambda text: [ ps.stem(text[i]) for i in range(len(text))])\n",
        "Text=Text.apply(lambda text:\" \".join([e for e in text]))\n",
        "vectorizer =TfidfVectorizer()\n",
        "TF_IDF= Z = vectorizer.fit_transform(Text) #essentially now wa are arrived in a 200000 dimentions space peppresentation for each document.\n",
        "scipy.sparse.save_npz('/content/drive/MyDrive/TFIDF.npz',TF_IDF)"
      ]
    },
    {
      "cell_type": "markdown",
      "metadata": {
        "id": "_bAehOkPPREu"
      },
      "source": [
        "2) Implement a class that, given a collection of tf-idf vectors (each representing a review), returns the collection of signatures of the vectors, where each signature is computed by applying the hyperplane method as seen in class. The length of the signature should be m = r × b, where as usual r and b are the number of rows and bands (see next point) of the signature matrix and are input parameters."
      ]
    },
    {
      "cell_type": "markdown",
      "metadata": {
        "id": "-vdm13wdq3T5"
      },
      "source": [
        "*Given a so high dimention of the Tf-IDf I've performed using the hyperplane method, so once obtained a dimentionality reduction to m, equal to rows times bands, is possible to perform an LSH on the signatures matrix. \n",
        "The method of hyperplane consist in the comparison of each point with this plane and basically assign 0 or 1 if it is below or above.\n",
        "So in this way we obtain a strong reduction.*\n"
      ]
    },
    {
      "cell_type": "code",
      "execution_count": null,
      "metadata": {
        "id": "ppHyNqWb33xR"
      },
      "outputs": [],
      "source": [
        "class Hyperplane_method:\n",
        "    def __init__(self,r,b):\n",
        "      self.r=r\n",
        "      self.b=b\n",
        "    def signatures_maker(self,Z):\n",
        "      HPPL=np.random.randn(Z.shape[1],self.r*self.b)\n",
        "      R = Z@HPPL\n",
        "      S = np.where(R>0,1,0)#now we are in a r*b dimentions space, so we have reduced.\n",
        "      return S,HPPL"
      ]
    },
    {
      "cell_type": "markdown",
      "metadata": {
        "id": "6wwpLsHxPZWB"
      },
      "source": [
        "3) Implement a LSH class implementing the banding technique seen in class (note that the number of dictionaries to use is equal to b)."
      ]
    },
    {
      "cell_type": "markdown",
      "metadata": {
        "id": "ryy7dOXAEHD3"
      },
      "source": [
        "*Once obtained for each document a binary vector of size \"m\", we split this m into \"b\" bands with \"r\" numbers in each one.\n",
        "After have computed a transformation of all the numbers in a band, and if 2 docs have the same value for a band I'll consider them similar. And using a set I've obtained directly the pairs of corrispondence.*"
      ]
    },
    {
      "cell_type": "code",
      "execution_count": null,
      "metadata": {
        "id": "xFSsuhBeQNRg"
      },
      "outputs": [],
      "source": [
        "class LSH:\n",
        "  def __init__(self,r=200,b=20):\n",
        "    self.r=r\n",
        "    self.b=b\n",
        "  def buckets_compiler(self,S):\n",
        "    list_dictionaries={}\n",
        "    for band in range(b):\n",
        "      list_dictionaries[band]={}\n",
        "    binary_column = 2**np.arange(self.r).reshape(-1,1)\n",
        "    S = np.split(S, self.b, axis=1)\n",
        "    S = np.hstack([M@binary_column for M in S])\n",
        "    for d,s in enumerate(S):\n",
        "      for i,k in enumerate(s):\n",
        "        diz=list_dictionaries[i]\n",
        "        if k in diz.keys():\n",
        "          diz[k].append(d)\n",
        "        else:\n",
        "          diz[k]=[d]\n",
        "    return list_dictionaries #Dictionary of dictionary to be open with band id and bucket id.\n",
        "  def bucket_id(self,te,HPPL): #given a te(document of test set) return all the buckets id (keys) in which te is insert.\n",
        "        R = te@HPPL \n",
        "        S = np.where(R>0,1,0) \n",
        "        binary_column = 2**np.arange(self.r).reshape(-1,1)\n",
        "        S = np.split(S, self.b, axis=1)\n",
        "        S = np.hstack([M@binary_column for M in S]) #array of b (number of bands) keys that refere to specific buckets.\n",
        "        return S"
      ]
    },
    {
      "cell_type": "markdown",
      "metadata": {
        "id": "jrH5-POJPpQJ"
      },
      "source": [
        "## Testing. \n",
        "Remove a small (and uniform) sample of the reviews from the dataset (say, 0.5%, which corresponds to more or less 2500 reviews). This will be your test set, while the rest of the dataset will be your training set. For each test review: i) compute the exact subset A of reviews in the training set, whose cosine similarity with the review under consideration is above θ; ii) compute the same subset, for the same threshold, this time time approximately using LSH. In general, this will be a subset B that is different from A (of course, we would like B to be as close to A as possible); iii) compute Jacc(A,B), as a measure of how A is close to B; iv) keep track of the times needed to compute A using exact method and B using LSH. You should report averages (over the number of test reviews) of the values computed in ii) - iv).\n",
        "Note that exact similarity computation is already available in python libraries."
      ]
    },
    {
      "cell_type": "markdown",
      "metadata": {
        "id": "Bp3yGmHJxWmQ"
      },
      "source": [
        "*I've computed effectivly for each Tf-IDf vector in the test set, which are really duplicates for it, and then using the keys of each document to look into the buckets and  find all the similar documents.*"
      ]
    },
    {
      "cell_type": "code",
      "execution_count": null,
      "metadata": {
        "id": "8phxDliAH6kA"
      },
      "outputs": [],
      "source": [
        "Z=scipy.sparse.load_npz('/content/drive/MyDrive/TFIDF.npz')\n",
        "train,test = train_test_split(Z, test_size=0.005)\n",
        "\n",
        "r,b=30,30\n",
        "\n",
        "H=Hyperplane_method(r,b)\n",
        "S,HPPL=H.signatures_maker(train) \n",
        "\n",
        "lsh=LSH(r,b)\n",
        "DIZ=lsh.buckets_compiler(S) "
      ]
    },
    {
      "cell_type": "code",
      "execution_count": null,
      "metadata": {
        "id": "cY3AUIfsK5LG"
      },
      "outputs": [],
      "source": [
        "def compute_A(train,te,r,b):\n",
        "  thresh=(1/b)**(1/r)\n",
        "  amicizie=set()\n",
        "  SIM=sklearn.metrics.pairwise.cosine_similarity(te,train)>thresh\n",
        "  SIM=np.where(SIM)[1]\n",
        "  if len(SIM)!=0:\n",
        "    amicizie.update(SIM)\n",
        "  return amicizie \n",
        "\n",
        "def compute_B(diz,te):\n",
        "  keys=lsh.bucket_id(te,HPPL)[0]\n",
        "  amicizie=set()\n",
        "  for i in range(b):\n",
        "    diz=DIZ[i]\n",
        "    k=keys[i]\n",
        "    if k in diz.keys():\n",
        "          amicinuovi=set(diz[k])\n",
        "          amicizie.update(amicinuovi)\n",
        "  return amicizie\n",
        "\n",
        "def Jacc_similarity(A,B):\n",
        "  intersection=len(A.intersection(B))\n",
        "  union=len(A.union(B))\n",
        "  if union!=0:\n",
        "    return intersection/union\n",
        "  else:\n",
        "    return 0"
      ]
    },
    {
      "cell_type": "code",
      "execution_count": null,
      "metadata": {
        "colab": {
          "base_uri": "https://localhost:8080/",
          "height": 135,
          "referenced_widgets": [
            "b1b8b19ae4da4052a2181d5e0352f20c",
            "a85036edab90419a9da5fce057da6c43",
            "1f1805e2c0754e1c86e9b089a034e203",
            "f74b9a444fe44589bd1ad9bd4259ea3e",
            "37b4719b1fad4906a405f0f45065c22e",
            "9a64b44508ac46998fe617bf65cf6209",
            "6b737f9b97264ce78e2bbfe35be60b69",
            "b99f24375ecc44dcbbfccf1fd7a657f5",
            "ded5bb961a9d4e1a9e3498a0ea170646",
            "f5766a7ad59e4e2b9b6123158b3ff14d",
            "22081be2222341fab9cecc18de3c8d11",
            "4f22fafc06744459886ce8f2c1bfc554",
            "bb64063b04f0455f8305776a7756663f",
            "5b9f45560103438197a9071d911d9d0e",
            "fd90f427ead64c049143b9be9b45a469",
            "406b2f68b8c6418298e898c85d4f52cf",
            "4b96a4ce3f4d43caba724003583c57e7",
            "10759c71bd854594aa55dbc868e7a68f",
            "c0afed48a7b94fa487f011fea963a64f",
            "a2abf3d8aa5947b8b8efa8b08b7e16b8",
            "2b80d0085ac741ecb979e720168d1fbf",
            "59ab8be0fbd74a7682bcbd1057de4bb3"
          ]
        },
        "id": "1kPEXnPlcTnJ",
        "outputId": "264a7096-a0c9-4b23-8aa5-34e6f06cc323"
      },
      "outputs": [
        {
          "output_type": "display_data",
          "data": {
            "text/plain": [
              "  0%|          | 0/1421 [00:00<?, ?it/s]"
            ],
            "application/vnd.jupyter.widget-view+json": {
              "version_major": 2,
              "version_minor": 0,
              "model_id": "b1b8b19ae4da4052a2181d5e0352f20c"
            }
          },
          "metadata": {}
        },
        {
          "output_type": "display_data",
          "data": {
            "text/plain": [
              "  0%|          | 0/1422 [00:00<?, ?it/s]"
            ],
            "application/vnd.jupyter.widget-view+json": {
              "version_major": 2,
              "version_minor": 0,
              "model_id": "4f22fafc06744459886ce8f2c1bfc554"
            }
          },
          "metadata": {}
        },
        {
          "output_type": "stream",
          "name": "stdout",
          "text": [
            "the AVG Jaccad Similarity is: 0.3985574188787066\n",
            "the AVG Time A is: 0.8055463025311304\n",
            "the AVG Time B is: 0.0005109336908184206\n"
          ]
        }
      ],
      "source": [
        "all_jac_sim=[]\n",
        "time_A=[]\n",
        "time_B=[]\n",
        "for te in tqdm(test,total=test.shape[0]):\n",
        "  start = timeit.default_timer()\n",
        "  A=compute_A(train,te,r,b)\n",
        "  stop = timeit.default_timer()\n",
        "  time_A.append(stop-start)\n",
        "  start = timeit.default_timer()\n",
        "  B=compute_B(DIZ,te)\n",
        "  stop = timeit.default_timer()\n",
        "  time_B.append(stop-start)\n",
        "  J=Jacc_similarity(A,B)\n",
        "  all_jac_sim.append(J)\n",
        "  df = pd.DataFrame(list(zip(time_A,time_B,all_jac_sim)),columns =['Time A', 'Time B','Jaccard Similarity'])\n",
        "print(\"the AVG Jaccad Similarity is: \"+ str(sum(all_jac_sim)/len(all_jac_sim)))\n",
        "print(\"the AVG Time A is: \"+ str(sum(time_A)/len(time_A)))\n",
        "print(\"the AVG Time B is: \"+ str(sum(time_B)/len(time_B)))"
      ]
    },
    {
      "cell_type": "markdown",
      "source": [
        "*The result is enough to deem that LSH provide a good approximations (the jaccard symilarity among sets is quite high (~40%).\n",
        "And also, once insert the train into the buckets (quite time consuming), the computation of LSH pairs is incredibly faster.\n",
        "The average time for compute pairs with the cosine similarity on Tf_IDf vector is 0.8s instead with LSH buckets (just computing the hash keys) is 0.0005s (let's gooooo!).*"
      ],
      "metadata": {
        "id": "AFxTRCMKU2HC"
      }
    },
    {
      "cell_type": "markdown",
      "metadata": {
        "id": "RX3LmxhMP0ak"
      },
      "source": [
        "## Fixing the threshold.\n",
        "\n",
        "Fixing the threshold θ is necessary to identify near neighbours and to fix the values of r and b. To this purpose, you need to get a feeling of the average pairwise cosine similarity between documents. A rudimentary way to proceed is the following (but you can think of something more principled of course): i) sample a small fraction of the reviews (e.g., 1% of them) uniformly at random and compute the average pairwise cosine similarity between them (note that this is likely to be a relatively small value); ii) fix the threshold θ to a value that is a few times larger than average pairwise cosine similarity, e.g., 5 times or more. Note that if the threshold is too high you might have very few (or no) near neighbours for most documents, while you might have too many if it is too low."
      ]
    },
    {
      "cell_type": "code",
      "execution_count": null,
      "metadata": {
        "colab": {
          "base_uri": "https://localhost:8080/"
        },
        "id": "PHrSo0mOQEzY",
        "outputId": "36858201-e38f-43b8-a1ec-5814577af37f"
      },
      "outputs": [
        {
          "output_type": "stream",
          "name": "stdout",
          "text": [
            "11.46%\n"
          ]
        }
      ],
      "source": [
        "T,Sample=train_test_split(Z, test_size=0.05)\n",
        "cosine_similarity=sklearn.metrics.pairwise.cosine_similarity(te,train)#cosine similarity in the sample among docs\n",
        "desiderata_thresh=np.mean(cosine_similarity)*7\n",
        "print(str(round((desiderata_thresh)*100,2))+\"%\")"
      ]
    },
    {
      "cell_type": "markdown",
      "source": [
        "*In order to obtain a better resut I might provide a threshold of 11% of similarity using row and bands such that (1/b)^(1/r)=0.11; of course taking into account a combination of the trade off.\n",
        "Using a lot of rows an no band leads us to false negative, and doing it wih the contrary leads to self positive.*"
      ],
      "metadata": {
        "id": "o3RHEr9VT961"
      }
    }
  ],
  "metadata": {
    "application/vnd.databricks.v1+notebook": {
      "dashboards": [],
      "language": "python",
      "notebookMetadata": {
        "pythonIndentUnit": 2
      },
      "notebookName": "Classification",
      "notebookOrigID": 3966539020232142,
      "widgets": {}
    },
    "colab": {
      "machine_shape": "hm",
      "provenance": []
    },
    "gpuClass": "standard",
    "kernelspec": {
      "display_name": "Python 3",
      "name": "python3"
    },
    "widgets": {
      "application/vnd.jupyter.widget-state+json": {
        "b1b8b19ae4da4052a2181d5e0352f20c": {
          "model_module": "@jupyter-widgets/controls",
          "model_name": "HBoxModel",
          "model_module_version": "1.5.0",
          "state": {
            "_dom_classes": [],
            "_model_module": "@jupyter-widgets/controls",
            "_model_module_version": "1.5.0",
            "_model_name": "HBoxModel",
            "_view_count": null,
            "_view_module": "@jupyter-widgets/controls",
            "_view_module_version": "1.5.0",
            "_view_name": "HBoxView",
            "box_style": "",
            "children": [
              "IPY_MODEL_a85036edab90419a9da5fce057da6c43",
              "IPY_MODEL_1f1805e2c0754e1c86e9b089a034e203",
              "IPY_MODEL_f74b9a444fe44589bd1ad9bd4259ea3e"
            ],
            "layout": "IPY_MODEL_37b4719b1fad4906a405f0f45065c22e"
          }
        },
        "a85036edab90419a9da5fce057da6c43": {
          "model_module": "@jupyter-widgets/controls",
          "model_name": "HTMLModel",
          "model_module_version": "1.5.0",
          "state": {
            "_dom_classes": [],
            "_model_module": "@jupyter-widgets/controls",
            "_model_module_version": "1.5.0",
            "_model_name": "HTMLModel",
            "_view_count": null,
            "_view_module": "@jupyter-widgets/controls",
            "_view_module_version": "1.5.0",
            "_view_name": "HTMLView",
            "description": "",
            "description_tooltip": null,
            "layout": "IPY_MODEL_9a64b44508ac46998fe617bf65cf6209",
            "placeholder": "​",
            "style": "IPY_MODEL_6b737f9b97264ce78e2bbfe35be60b69",
            "value": "100%"
          }
        },
        "1f1805e2c0754e1c86e9b089a034e203": {
          "model_module": "@jupyter-widgets/controls",
          "model_name": "FloatProgressModel",
          "model_module_version": "1.5.0",
          "state": {
            "_dom_classes": [],
            "_model_module": "@jupyter-widgets/controls",
            "_model_module_version": "1.5.0",
            "_model_name": "FloatProgressModel",
            "_view_count": null,
            "_view_module": "@jupyter-widgets/controls",
            "_view_module_version": "1.5.0",
            "_view_name": "ProgressView",
            "bar_style": "success",
            "description": "",
            "description_tooltip": null,
            "layout": "IPY_MODEL_b99f24375ecc44dcbbfccf1fd7a657f5",
            "max": 1421,
            "min": 0,
            "orientation": "horizontal",
            "style": "IPY_MODEL_ded5bb961a9d4e1a9e3498a0ea170646",
            "value": 1421
          }
        },
        "f74b9a444fe44589bd1ad9bd4259ea3e": {
          "model_module": "@jupyter-widgets/controls",
          "model_name": "HTMLModel",
          "model_module_version": "1.5.0",
          "state": {
            "_dom_classes": [],
            "_model_module": "@jupyter-widgets/controls",
            "_model_module_version": "1.5.0",
            "_model_name": "HTMLModel",
            "_view_count": null,
            "_view_module": "@jupyter-widgets/controls",
            "_view_module_version": "1.5.0",
            "_view_name": "HTMLView",
            "description": "",
            "description_tooltip": null,
            "layout": "IPY_MODEL_f5766a7ad59e4e2b9b6123158b3ff14d",
            "placeholder": "​",
            "style": "IPY_MODEL_22081be2222341fab9cecc18de3c8d11",
            "value": " 1421/1421 [20:13&lt;00:00,  1.17it/s]"
          }
        },
        "37b4719b1fad4906a405f0f45065c22e": {
          "model_module": "@jupyter-widgets/base",
          "model_name": "LayoutModel",
          "model_module_version": "1.2.0",
          "state": {
            "_model_module": "@jupyter-widgets/base",
            "_model_module_version": "1.2.0",
            "_model_name": "LayoutModel",
            "_view_count": null,
            "_view_module": "@jupyter-widgets/base",
            "_view_module_version": "1.2.0",
            "_view_name": "LayoutView",
            "align_content": null,
            "align_items": null,
            "align_self": null,
            "border": null,
            "bottom": null,
            "display": null,
            "flex": null,
            "flex_flow": null,
            "grid_area": null,
            "grid_auto_columns": null,
            "grid_auto_flow": null,
            "grid_auto_rows": null,
            "grid_column": null,
            "grid_gap": null,
            "grid_row": null,
            "grid_template_areas": null,
            "grid_template_columns": null,
            "grid_template_rows": null,
            "height": null,
            "justify_content": null,
            "justify_items": null,
            "left": null,
            "margin": null,
            "max_height": null,
            "max_width": null,
            "min_height": null,
            "min_width": null,
            "object_fit": null,
            "object_position": null,
            "order": null,
            "overflow": null,
            "overflow_x": null,
            "overflow_y": null,
            "padding": null,
            "right": null,
            "top": null,
            "visibility": null,
            "width": null
          }
        },
        "9a64b44508ac46998fe617bf65cf6209": {
          "model_module": "@jupyter-widgets/base",
          "model_name": "LayoutModel",
          "model_module_version": "1.2.0",
          "state": {
            "_model_module": "@jupyter-widgets/base",
            "_model_module_version": "1.2.0",
            "_model_name": "LayoutModel",
            "_view_count": null,
            "_view_module": "@jupyter-widgets/base",
            "_view_module_version": "1.2.0",
            "_view_name": "LayoutView",
            "align_content": null,
            "align_items": null,
            "align_self": null,
            "border": null,
            "bottom": null,
            "display": null,
            "flex": null,
            "flex_flow": null,
            "grid_area": null,
            "grid_auto_columns": null,
            "grid_auto_flow": null,
            "grid_auto_rows": null,
            "grid_column": null,
            "grid_gap": null,
            "grid_row": null,
            "grid_template_areas": null,
            "grid_template_columns": null,
            "grid_template_rows": null,
            "height": null,
            "justify_content": null,
            "justify_items": null,
            "left": null,
            "margin": null,
            "max_height": null,
            "max_width": null,
            "min_height": null,
            "min_width": null,
            "object_fit": null,
            "object_position": null,
            "order": null,
            "overflow": null,
            "overflow_x": null,
            "overflow_y": null,
            "padding": null,
            "right": null,
            "top": null,
            "visibility": null,
            "width": null
          }
        },
        "6b737f9b97264ce78e2bbfe35be60b69": {
          "model_module": "@jupyter-widgets/controls",
          "model_name": "DescriptionStyleModel",
          "model_module_version": "1.5.0",
          "state": {
            "_model_module": "@jupyter-widgets/controls",
            "_model_module_version": "1.5.0",
            "_model_name": "DescriptionStyleModel",
            "_view_count": null,
            "_view_module": "@jupyter-widgets/base",
            "_view_module_version": "1.2.0",
            "_view_name": "StyleView",
            "description_width": ""
          }
        },
        "b99f24375ecc44dcbbfccf1fd7a657f5": {
          "model_module": "@jupyter-widgets/base",
          "model_name": "LayoutModel",
          "model_module_version": "1.2.0",
          "state": {
            "_model_module": "@jupyter-widgets/base",
            "_model_module_version": "1.2.0",
            "_model_name": "LayoutModel",
            "_view_count": null,
            "_view_module": "@jupyter-widgets/base",
            "_view_module_version": "1.2.0",
            "_view_name": "LayoutView",
            "align_content": null,
            "align_items": null,
            "align_self": null,
            "border": null,
            "bottom": null,
            "display": null,
            "flex": null,
            "flex_flow": null,
            "grid_area": null,
            "grid_auto_columns": null,
            "grid_auto_flow": null,
            "grid_auto_rows": null,
            "grid_column": null,
            "grid_gap": null,
            "grid_row": null,
            "grid_template_areas": null,
            "grid_template_columns": null,
            "grid_template_rows": null,
            "height": null,
            "justify_content": null,
            "justify_items": null,
            "left": null,
            "margin": null,
            "max_height": null,
            "max_width": null,
            "min_height": null,
            "min_width": null,
            "object_fit": null,
            "object_position": null,
            "order": null,
            "overflow": null,
            "overflow_x": null,
            "overflow_y": null,
            "padding": null,
            "right": null,
            "top": null,
            "visibility": null,
            "width": null
          }
        },
        "ded5bb961a9d4e1a9e3498a0ea170646": {
          "model_module": "@jupyter-widgets/controls",
          "model_name": "ProgressStyleModel",
          "model_module_version": "1.5.0",
          "state": {
            "_model_module": "@jupyter-widgets/controls",
            "_model_module_version": "1.5.0",
            "_model_name": "ProgressStyleModel",
            "_view_count": null,
            "_view_module": "@jupyter-widgets/base",
            "_view_module_version": "1.2.0",
            "_view_name": "StyleView",
            "bar_color": null,
            "description_width": ""
          }
        },
        "f5766a7ad59e4e2b9b6123158b3ff14d": {
          "model_module": "@jupyter-widgets/base",
          "model_name": "LayoutModel",
          "model_module_version": "1.2.0",
          "state": {
            "_model_module": "@jupyter-widgets/base",
            "_model_module_version": "1.2.0",
            "_model_name": "LayoutModel",
            "_view_count": null,
            "_view_module": "@jupyter-widgets/base",
            "_view_module_version": "1.2.0",
            "_view_name": "LayoutView",
            "align_content": null,
            "align_items": null,
            "align_self": null,
            "border": null,
            "bottom": null,
            "display": null,
            "flex": null,
            "flex_flow": null,
            "grid_area": null,
            "grid_auto_columns": null,
            "grid_auto_flow": null,
            "grid_auto_rows": null,
            "grid_column": null,
            "grid_gap": null,
            "grid_row": null,
            "grid_template_areas": null,
            "grid_template_columns": null,
            "grid_template_rows": null,
            "height": null,
            "justify_content": null,
            "justify_items": null,
            "left": null,
            "margin": null,
            "max_height": null,
            "max_width": null,
            "min_height": null,
            "min_width": null,
            "object_fit": null,
            "object_position": null,
            "order": null,
            "overflow": null,
            "overflow_x": null,
            "overflow_y": null,
            "padding": null,
            "right": null,
            "top": null,
            "visibility": null,
            "width": null
          }
        },
        "22081be2222341fab9cecc18de3c8d11": {
          "model_module": "@jupyter-widgets/controls",
          "model_name": "DescriptionStyleModel",
          "model_module_version": "1.5.0",
          "state": {
            "_model_module": "@jupyter-widgets/controls",
            "_model_module_version": "1.5.0",
            "_model_name": "DescriptionStyleModel",
            "_view_count": null,
            "_view_module": "@jupyter-widgets/base",
            "_view_module_version": "1.2.0",
            "_view_name": "StyleView",
            "description_width": ""
          }
        },
        "4f22fafc06744459886ce8f2c1bfc554": {
          "model_module": "@jupyter-widgets/controls",
          "model_name": "HBoxModel",
          "model_module_version": "1.5.0",
          "state": {
            "_dom_classes": [],
            "_model_module": "@jupyter-widgets/controls",
            "_model_module_version": "1.5.0",
            "_model_name": "HBoxModel",
            "_view_count": null,
            "_view_module": "@jupyter-widgets/controls",
            "_view_module_version": "1.5.0",
            "_view_name": "HBoxView",
            "box_style": "",
            "children": [
              "IPY_MODEL_bb64063b04f0455f8305776a7756663f",
              "IPY_MODEL_5b9f45560103438197a9071d911d9d0e",
              "IPY_MODEL_fd90f427ead64c049143b9be9b45a469"
            ],
            "layout": "IPY_MODEL_406b2f68b8c6418298e898c85d4f52cf"
          }
        },
        "bb64063b04f0455f8305776a7756663f": {
          "model_module": "@jupyter-widgets/controls",
          "model_name": "HTMLModel",
          "model_module_version": "1.5.0",
          "state": {
            "_dom_classes": [],
            "_model_module": "@jupyter-widgets/controls",
            "_model_module_version": "1.5.0",
            "_model_name": "HTMLModel",
            "_view_count": null,
            "_view_module": "@jupyter-widgets/controls",
            "_view_module_version": "1.5.0",
            "_view_name": "HTMLView",
            "description": "",
            "description_tooltip": null,
            "layout": "IPY_MODEL_4b96a4ce3f4d43caba724003583c57e7",
            "placeholder": "​",
            "style": "IPY_MODEL_10759c71bd854594aa55dbc868e7a68f",
            "value": "100%"
          }
        },
        "5b9f45560103438197a9071d911d9d0e": {
          "model_module": "@jupyter-widgets/controls",
          "model_name": "FloatProgressModel",
          "model_module_version": "1.5.0",
          "state": {
            "_dom_classes": [],
            "_model_module": "@jupyter-widgets/controls",
            "_model_module_version": "1.5.0",
            "_model_name": "FloatProgressModel",
            "_view_count": null,
            "_view_module": "@jupyter-widgets/controls",
            "_view_module_version": "1.5.0",
            "_view_name": "ProgressView",
            "bar_style": "success",
            "description": "",
            "description_tooltip": null,
            "layout": "IPY_MODEL_c0afed48a7b94fa487f011fea963a64f",
            "max": 1422,
            "min": 0,
            "orientation": "horizontal",
            "style": "IPY_MODEL_a2abf3d8aa5947b8b8efa8b08b7e16b8",
            "value": 1422
          }
        },
        "fd90f427ead64c049143b9be9b45a469": {
          "model_module": "@jupyter-widgets/controls",
          "model_name": "HTMLModel",
          "model_module_version": "1.5.0",
          "state": {
            "_dom_classes": [],
            "_model_module": "@jupyter-widgets/controls",
            "_model_module_version": "1.5.0",
            "_model_name": "HTMLModel",
            "_view_count": null,
            "_view_module": "@jupyter-widgets/controls",
            "_view_module_version": "1.5.0",
            "_view_name": "HTMLView",
            "description": "",
            "description_tooltip": null,
            "layout": "IPY_MODEL_2b80d0085ac741ecb979e720168d1fbf",
            "placeholder": "​",
            "style": "IPY_MODEL_59ab8be0fbd74a7682bcbd1057de4bb3",
            "value": " 1422/1422 [18:09&lt;00:00,  1.36it/s]"
          }
        },
        "406b2f68b8c6418298e898c85d4f52cf": {
          "model_module": "@jupyter-widgets/base",
          "model_name": "LayoutModel",
          "model_module_version": "1.2.0",
          "state": {
            "_model_module": "@jupyter-widgets/base",
            "_model_module_version": "1.2.0",
            "_model_name": "LayoutModel",
            "_view_count": null,
            "_view_module": "@jupyter-widgets/base",
            "_view_module_version": "1.2.0",
            "_view_name": "LayoutView",
            "align_content": null,
            "align_items": null,
            "align_self": null,
            "border": null,
            "bottom": null,
            "display": null,
            "flex": null,
            "flex_flow": null,
            "grid_area": null,
            "grid_auto_columns": null,
            "grid_auto_flow": null,
            "grid_auto_rows": null,
            "grid_column": null,
            "grid_gap": null,
            "grid_row": null,
            "grid_template_areas": null,
            "grid_template_columns": null,
            "grid_template_rows": null,
            "height": null,
            "justify_content": null,
            "justify_items": null,
            "left": null,
            "margin": null,
            "max_height": null,
            "max_width": null,
            "min_height": null,
            "min_width": null,
            "object_fit": null,
            "object_position": null,
            "order": null,
            "overflow": null,
            "overflow_x": null,
            "overflow_y": null,
            "padding": null,
            "right": null,
            "top": null,
            "visibility": null,
            "width": null
          }
        },
        "4b96a4ce3f4d43caba724003583c57e7": {
          "model_module": "@jupyter-widgets/base",
          "model_name": "LayoutModel",
          "model_module_version": "1.2.0",
          "state": {
            "_model_module": "@jupyter-widgets/base",
            "_model_module_version": "1.2.0",
            "_model_name": "LayoutModel",
            "_view_count": null,
            "_view_module": "@jupyter-widgets/base",
            "_view_module_version": "1.2.0",
            "_view_name": "LayoutView",
            "align_content": null,
            "align_items": null,
            "align_self": null,
            "border": null,
            "bottom": null,
            "display": null,
            "flex": null,
            "flex_flow": null,
            "grid_area": null,
            "grid_auto_columns": null,
            "grid_auto_flow": null,
            "grid_auto_rows": null,
            "grid_column": null,
            "grid_gap": null,
            "grid_row": null,
            "grid_template_areas": null,
            "grid_template_columns": null,
            "grid_template_rows": null,
            "height": null,
            "justify_content": null,
            "justify_items": null,
            "left": null,
            "margin": null,
            "max_height": null,
            "max_width": null,
            "min_height": null,
            "min_width": null,
            "object_fit": null,
            "object_position": null,
            "order": null,
            "overflow": null,
            "overflow_x": null,
            "overflow_y": null,
            "padding": null,
            "right": null,
            "top": null,
            "visibility": null,
            "width": null
          }
        },
        "10759c71bd854594aa55dbc868e7a68f": {
          "model_module": "@jupyter-widgets/controls",
          "model_name": "DescriptionStyleModel",
          "model_module_version": "1.5.0",
          "state": {
            "_model_module": "@jupyter-widgets/controls",
            "_model_module_version": "1.5.0",
            "_model_name": "DescriptionStyleModel",
            "_view_count": null,
            "_view_module": "@jupyter-widgets/base",
            "_view_module_version": "1.2.0",
            "_view_name": "StyleView",
            "description_width": ""
          }
        },
        "c0afed48a7b94fa487f011fea963a64f": {
          "model_module": "@jupyter-widgets/base",
          "model_name": "LayoutModel",
          "model_module_version": "1.2.0",
          "state": {
            "_model_module": "@jupyter-widgets/base",
            "_model_module_version": "1.2.0",
            "_model_name": "LayoutModel",
            "_view_count": null,
            "_view_module": "@jupyter-widgets/base",
            "_view_module_version": "1.2.0",
            "_view_name": "LayoutView",
            "align_content": null,
            "align_items": null,
            "align_self": null,
            "border": null,
            "bottom": null,
            "display": null,
            "flex": null,
            "flex_flow": null,
            "grid_area": null,
            "grid_auto_columns": null,
            "grid_auto_flow": null,
            "grid_auto_rows": null,
            "grid_column": null,
            "grid_gap": null,
            "grid_row": null,
            "grid_template_areas": null,
            "grid_template_columns": null,
            "grid_template_rows": null,
            "height": null,
            "justify_content": null,
            "justify_items": null,
            "left": null,
            "margin": null,
            "max_height": null,
            "max_width": null,
            "min_height": null,
            "min_width": null,
            "object_fit": null,
            "object_position": null,
            "order": null,
            "overflow": null,
            "overflow_x": null,
            "overflow_y": null,
            "padding": null,
            "right": null,
            "top": null,
            "visibility": null,
            "width": null
          }
        },
        "a2abf3d8aa5947b8b8efa8b08b7e16b8": {
          "model_module": "@jupyter-widgets/controls",
          "model_name": "ProgressStyleModel",
          "model_module_version": "1.5.0",
          "state": {
            "_model_module": "@jupyter-widgets/controls",
            "_model_module_version": "1.5.0",
            "_model_name": "ProgressStyleModel",
            "_view_count": null,
            "_view_module": "@jupyter-widgets/base",
            "_view_module_version": "1.2.0",
            "_view_name": "StyleView",
            "bar_color": null,
            "description_width": ""
          }
        },
        "2b80d0085ac741ecb979e720168d1fbf": {
          "model_module": "@jupyter-widgets/base",
          "model_name": "LayoutModel",
          "model_module_version": "1.2.0",
          "state": {
            "_model_module": "@jupyter-widgets/base",
            "_model_module_version": "1.2.0",
            "_model_name": "LayoutModel",
            "_view_count": null,
            "_view_module": "@jupyter-widgets/base",
            "_view_module_version": "1.2.0",
            "_view_name": "LayoutView",
            "align_content": null,
            "align_items": null,
            "align_self": null,
            "border": null,
            "bottom": null,
            "display": null,
            "flex": null,
            "flex_flow": null,
            "grid_area": null,
            "grid_auto_columns": null,
            "grid_auto_flow": null,
            "grid_auto_rows": null,
            "grid_column": null,
            "grid_gap": null,
            "grid_row": null,
            "grid_template_areas": null,
            "grid_template_columns": null,
            "grid_template_rows": null,
            "height": null,
            "justify_content": null,
            "justify_items": null,
            "left": null,
            "margin": null,
            "max_height": null,
            "max_width": null,
            "min_height": null,
            "min_width": null,
            "object_fit": null,
            "object_position": null,
            "order": null,
            "overflow": null,
            "overflow_x": null,
            "overflow_y": null,
            "padding": null,
            "right": null,
            "top": null,
            "visibility": null,
            "width": null
          }
        },
        "59ab8be0fbd74a7682bcbd1057de4bb3": {
          "model_module": "@jupyter-widgets/controls",
          "model_name": "DescriptionStyleModel",
          "model_module_version": "1.5.0",
          "state": {
            "_model_module": "@jupyter-widgets/controls",
            "_model_module_version": "1.5.0",
            "_model_name": "DescriptionStyleModel",
            "_view_count": null,
            "_view_module": "@jupyter-widgets/base",
            "_view_module_version": "1.2.0",
            "_view_name": "StyleView",
            "description_width": ""
          }
        }
      }
    }
  },
  "nbformat": 4,
  "nbformat_minor": 0
}